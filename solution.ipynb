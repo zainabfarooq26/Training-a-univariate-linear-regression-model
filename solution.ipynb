{
  "nbformat": 4,
  "nbformat_minor": 0,
  "metadata": {
    "colab": {
      "provenance": []
    },
    "kernelspec": {
      "name": "python3",
      "display_name": "Python 3"
    },
    "language_info": {
      "name": "python"
    }
  },
  "cells": [
    {
      "cell_type": "markdown",
      "source": [
        "# Assigenemt-1: Training a Linear Regression Model\n",
        " \n",
        "### Roll Number: BITF20M026\n",
        "### Name: A1-BITF20M026"
      ],
      "metadata": {
        "id": "0xpvZ8fK6OsH"
      }
    },
    {
      "cell_type": "markdown",
      "source": [
        "##Loading Dataset"
      ],
      "metadata": {
        "id": "CCJdMBzs9hHg"
      }
    },
    {
      "cell_type": "markdown",
      "source": [
        "Mounting Google Drive"
      ],
      "metadata": {
        "id": "Nh6sgt0pva3-"
      }
    },
    {
      "cell_type": "code",
      "execution_count": null,
      "metadata": {
        "id": "RTsdHNTvujzS",
        "colab": {
          "base_uri": "https://localhost:8080/"
        },
        "outputId": "5af13e41-b6b9-4fe7-c12c-53be4a1522fb"
      },
      "outputs": [
        {
          "output_type": "stream",
          "name": "stdout",
          "text": [
            "Drive already mounted at /content/drive/; to attempt to forcibly remount, call drive.mount(\"/content/drive/\", force_remount=True).\n"
          ]
        }
      ],
      "source": [
        "from google.colab import drive\n",
        "drive.mount('/content/drive/')"
      ]
    },
    {
      "cell_type": "markdown",
      "source": [
        "Importing Libraries"
      ],
      "metadata": {
        "id": "4lNOUoHXwMNa"
      }
    },
    {
      "cell_type": "code",
      "source": [
        "import numpy as np\n",
        "import pandas as pd\n",
        "import matplotlib.pyplot as plt"
      ],
      "metadata": {
        "id": "BadiSaBAwPjP"
      },
      "execution_count": null,
      "outputs": []
    },
    {
      "cell_type": "markdown",
      "source": [
        "Loading train and test data files from Google **drive**"
      ],
      "metadata": {
        "id": "BSCiM_P9vext"
      }
    },
    {
      "cell_type": "code",
      "source": [
        "\n",
        "train_df = pd.read_csv('/content/drive/MyDrive/ assignment 1  dataset/Copy of train.csv')\n",
        "test_df = pd.read_csv('/content/drive/MyDrive/ assignment 1  dataset/Copy of test.csv')\n",
        "train_df.head(10)\n",
        "test_df.head(10)"
      ],
      "metadata": {
        "id": "qJjb7OXivmA2",
        "colab": {
          "base_uri": "https://localhost:8080/",
          "height": 363
        },
        "outputId": "d5ffc813-ccac-4666-b34d-9b9efa73ce63"
      },
      "execution_count": null,
      "outputs": [
        {
          "output_type": "execute_result",
          "data": {
            "text/plain": [
              "    x          y\n",
              "0  77  79.775152\n",
              "1  21  23.177279\n",
              "2  22  25.609262\n",
              "3  20  17.857388\n",
              "4  36  41.849864\n",
              "5  15   9.805235\n",
              "6  62  58.874659\n",
              "7  95  97.617937\n",
              "8  20  18.395127\n",
              "9   5   8.746748"
            ],
            "text/html": [
              "\n",
              "  <div id=\"df-6c76b789-ccc5-43a9-be14-aa4f0dd809f1\">\n",
              "    <div class=\"colab-df-container\">\n",
              "      <div>\n",
              "<style scoped>\n",
              "    .dataframe tbody tr th:only-of-type {\n",
              "        vertical-align: middle;\n",
              "    }\n",
              "\n",
              "    .dataframe tbody tr th {\n",
              "        vertical-align: top;\n",
              "    }\n",
              "\n",
              "    .dataframe thead th {\n",
              "        text-align: right;\n",
              "    }\n",
              "</style>\n",
              "<table border=\"1\" class=\"dataframe\">\n",
              "  <thead>\n",
              "    <tr style=\"text-align: right;\">\n",
              "      <th></th>\n",
              "      <th>x</th>\n",
              "      <th>y</th>\n",
              "    </tr>\n",
              "  </thead>\n",
              "  <tbody>\n",
              "    <tr>\n",
              "      <th>0</th>\n",
              "      <td>77</td>\n",
              "      <td>79.775152</td>\n",
              "    </tr>\n",
              "    <tr>\n",
              "      <th>1</th>\n",
              "      <td>21</td>\n",
              "      <td>23.177279</td>\n",
              "    </tr>\n",
              "    <tr>\n",
              "      <th>2</th>\n",
              "      <td>22</td>\n",
              "      <td>25.609262</td>\n",
              "    </tr>\n",
              "    <tr>\n",
              "      <th>3</th>\n",
              "      <td>20</td>\n",
              "      <td>17.857388</td>\n",
              "    </tr>\n",
              "    <tr>\n",
              "      <th>4</th>\n",
              "      <td>36</td>\n",
              "      <td>41.849864</td>\n",
              "    </tr>\n",
              "    <tr>\n",
              "      <th>5</th>\n",
              "      <td>15</td>\n",
              "      <td>9.805235</td>\n",
              "    </tr>\n",
              "    <tr>\n",
              "      <th>6</th>\n",
              "      <td>62</td>\n",
              "      <td>58.874659</td>\n",
              "    </tr>\n",
              "    <tr>\n",
              "      <th>7</th>\n",
              "      <td>95</td>\n",
              "      <td>97.617937</td>\n",
              "    </tr>\n",
              "    <tr>\n",
              "      <th>8</th>\n",
              "      <td>20</td>\n",
              "      <td>18.395127</td>\n",
              "    </tr>\n",
              "    <tr>\n",
              "      <th>9</th>\n",
              "      <td>5</td>\n",
              "      <td>8.746748</td>\n",
              "    </tr>\n",
              "  </tbody>\n",
              "</table>\n",
              "</div>\n",
              "      <button class=\"colab-df-convert\" onclick=\"convertToInteractive('df-6c76b789-ccc5-43a9-be14-aa4f0dd809f1')\"\n",
              "              title=\"Convert this dataframe to an interactive table.\"\n",
              "              style=\"display:none;\">\n",
              "        \n",
              "  <svg xmlns=\"http://www.w3.org/2000/svg\" height=\"24px\"viewBox=\"0 0 24 24\"\n",
              "       width=\"24px\">\n",
              "    <path d=\"M0 0h24v24H0V0z\" fill=\"none\"/>\n",
              "    <path d=\"M18.56 5.44l.94 2.06.94-2.06 2.06-.94-2.06-.94-.94-2.06-.94 2.06-2.06.94zm-11 1L8.5 8.5l.94-2.06 2.06-.94-2.06-.94L8.5 2.5l-.94 2.06-2.06.94zm10 10l.94 2.06.94-2.06 2.06-.94-2.06-.94-.94-2.06-.94 2.06-2.06.94z\"/><path d=\"M17.41 7.96l-1.37-1.37c-.4-.4-.92-.59-1.43-.59-.52 0-1.04.2-1.43.59L10.3 9.45l-7.72 7.72c-.78.78-.78 2.05 0 2.83L4 21.41c.39.39.9.59 1.41.59.51 0 1.02-.2 1.41-.59l7.78-7.78 2.81-2.81c.8-.78.8-2.07 0-2.86zM5.41 20L4 18.59l7.72-7.72 1.47 1.35L5.41 20z\"/>\n",
              "  </svg>\n",
              "      </button>\n",
              "      \n",
              "  <style>\n",
              "    .colab-df-container {\n",
              "      display:flex;\n",
              "      flex-wrap:wrap;\n",
              "      gap: 12px;\n",
              "    }\n",
              "\n",
              "    .colab-df-convert {\n",
              "      background-color: #E8F0FE;\n",
              "      border: none;\n",
              "      border-radius: 50%;\n",
              "      cursor: pointer;\n",
              "      display: none;\n",
              "      fill: #1967D2;\n",
              "      height: 32px;\n",
              "      padding: 0 0 0 0;\n",
              "      width: 32px;\n",
              "    }\n",
              "\n",
              "    .colab-df-convert:hover {\n",
              "      background-color: #E2EBFA;\n",
              "      box-shadow: 0px 1px 2px rgba(60, 64, 67, 0.3), 0px 1px 3px 1px rgba(60, 64, 67, 0.15);\n",
              "      fill: #174EA6;\n",
              "    }\n",
              "\n",
              "    [theme=dark] .colab-df-convert {\n",
              "      background-color: #3B4455;\n",
              "      fill: #D2E3FC;\n",
              "    }\n",
              "\n",
              "    [theme=dark] .colab-df-convert:hover {\n",
              "      background-color: #434B5C;\n",
              "      box-shadow: 0px 1px 3px 1px rgba(0, 0, 0, 0.15);\n",
              "      filter: drop-shadow(0px 1px 2px rgba(0, 0, 0, 0.3));\n",
              "      fill: #FFFFFF;\n",
              "    }\n",
              "  </style>\n",
              "\n",
              "      <script>\n",
              "        const buttonEl =\n",
              "          document.querySelector('#df-6c76b789-ccc5-43a9-be14-aa4f0dd809f1 button.colab-df-convert');\n",
              "        buttonEl.style.display =\n",
              "          google.colab.kernel.accessAllowed ? 'block' : 'none';\n",
              "\n",
              "        async function convertToInteractive(key) {\n",
              "          const element = document.querySelector('#df-6c76b789-ccc5-43a9-be14-aa4f0dd809f1');\n",
              "          const dataTable =\n",
              "            await google.colab.kernel.invokeFunction('convertToInteractive',\n",
              "                                                     [key], {});\n",
              "          if (!dataTable) return;\n",
              "\n",
              "          const docLinkHtml = 'Like what you see? Visit the ' +\n",
              "            '<a target=\"_blank\" href=https://colab.research.google.com/notebooks/data_table.ipynb>data table notebook</a>'\n",
              "            + ' to learn more about interactive tables.';\n",
              "          element.innerHTML = '';\n",
              "          dataTable['output_type'] = 'display_data';\n",
              "          await google.colab.output.renderOutput(dataTable, element);\n",
              "          const docLink = document.createElement('div');\n",
              "          docLink.innerHTML = docLinkHtml;\n",
              "          element.appendChild(docLink);\n",
              "        }\n",
              "      </script>\n",
              "    </div>\n",
              "  </div>\n",
              "  "
            ]
          },
          "metadata": {},
          "execution_count": 60
        }
      ]
    },
    {
      "cell_type": "markdown",
      "source": [
        "Converting dataframes to numpy arrays"
      ],
      "metadata": {
        "id": "_-eJx9IExJ2i"
      }
    },
    {
      "cell_type": "code",
      "source": [
        "train_df_np = train_df.to_numpy()\n",
        "print(\"training data shape:\", train_df_np.shape)\n",
        "test_df_np = test_df.to_numpy()\n",
        "print(\"testing data shape:\", test_df_np.shape)"
      ],
      "metadata": {
        "id": "DV42kUrY95Vh",
        "colab": {
          "base_uri": "https://localhost:8080/"
        },
        "outputId": "292eeb63-a3a9-4c47-adf1-ee3c87f0f5b8"
      },
      "execution_count": null,
      "outputs": [
        {
          "output_type": "stream",
          "name": "stdout",
          "text": [
            "training data shape: (699, 2)\n",
            "testing data shape: (300, 2)\n"
          ]
        }
      ]
    },
    {
      "cell_type": "markdown",
      "source": [
        "##Training the model\n",
        "Use normal equation method to compute the optimal parameters for linear regression. Print the values of optimal parameters.\n"
      ],
      "metadata": {
        "id": "Zh8xfVgA8tuI"
      }
    },
    {
      "cell_type": "code",
      "source": [
        "X = train_df_np\n",
        "y = train_df_np\n",
        "def hypo(theta0, theta1, x):\n",
        "   return (theta0 + theta1 *x)\n",
        "def cost(theta0, theta1, X, y):\n",
        "    m = len(y)\n",
        "    result = 1/(2*m) * np.sum((hypo(theta0, theta1,X)- y)**2)\n",
        "    return result\n",
        "theta0_values = np.arange(-0.5, 1.5, 0.2)\n",
        "theta1_values = np.arange(-0.5, 1.5, 0.2)\n",
        "min_cost = float('inf')\n",
        "min_theta0 = None\n",
        "min_theta1 = None\n",
        "\n",
        "for theta0 in theta0_values:\n",
        "    for theta1 in theta1_values:\n",
        "        result= cost(theta0,theta1, X, y)\n",
        "        if result < min_cost:\n",
        "            min_cost = result\n",
        "            min_theta0 = theta0\n",
        "            min_theta1 = theta1\n",
        "print(\" theta0 = {}, theta1 = {}\".format(min_theta0, min_theta1))\n",
        "print(\"Minimum cost: {}\".format(min_cost))\n"
      ],
      "metadata": {
        "id": "d30dZV4a98kS",
        "colab": {
          "base_uri": "https://localhost:8080/"
        },
        "outputId": "a7fb0bd3-3db2-42c7-f94a-70dbacc695a1"
      },
      "execution_count": null,
      "outputs": [
        {
          "output_type": "stream",
          "name": "stdout",
          "text": [
            " theta0 = 1.3, theta1 = 0.9000000000000001\n",
            "Minimum cost: 22.08957132471377\n"
          ]
        }
      ]
    },
    {
      "cell_type": "markdown",
      "source": [
        "# New Section"
      ],
      "metadata": {
        "id": "hM9bgRXjqOAi"
      }
    },
    {
      "cell_type": "markdown",
      "source": [
        "##Testing the model\n",
        "Predict the output (y`) for test dataset using the optimal parameters  computed at the previous step."
      ],
      "metadata": {
        "id": "BODzNEdS8yKP"
      }
    },
    {
      "cell_type": "code",
      "source": [
        "theta0 = min_theta0\n",
        "theta1 = min_theta1\n",
        "X_test = test_df_np[:, -1] \n",
        "y_test = test_df_np[:, -1] \n",
        "y_pred = hypo(theta0, theta1, X_test)\n",
        "for i in range(2):\n",
        "  print(\"Predicted hypothesis  y':{} \".format(y_pred[i]))\n",
        "\n",
        "\n",
        "   "
      ],
      "metadata": {
        "id": "5JDk1oXN-Bu2",
        "colab": {
          "base_uri": "https://localhost:8080/"
        },
        "outputId": "e3f39bb7-7d2a-43f2-cc9d-07d20780b7e7"
      },
      "execution_count": null,
      "outputs": [
        {
          "output_type": "stream",
          "name": "stdout",
          "text": [
            "Predicted hypothesis  y':73.09763680900001 \n",
            "Predicted hypothesis  y':22.159550983000003 \n"
          ]
        }
      ]
    },
    {
      "cell_type": "markdown",
      "source": [
        "Compute the error using mean squared error function"
      ],
      "metadata": {
        "id": "l_Cn2PR59bEK"
      }
    },
    {
      "cell_type": "code",
      "source": [
        "\n",
        "X = train_df_np\n",
        "y = train_df_np\n",
        "\n",
        "def hypo(theta0, theta1, x):\n",
        "   return (theta0 + theta1 * x)\n",
        "    \n",
        "def MSE(theta0, theta1, X, y):\n",
        "    m = len(y)\n",
        "    result = 1/(2*m) * np.sum((y - hypo(theta0, theta1, X))**2)\n",
        "    return result\n",
        "\n",
        "theta0_values = np.arange(-0.5, 1.7, 0.2)\n",
        "theta1_values = np.arange(-0.5, 1.7, 0.2)\n",
        "\n",
        "min_cost = float('inf')\n",
        "min_theta0 = None\n",
        "min_theta1 = None\n",
        "\n",
        "for theta0 in theta0_values:\n",
        "    for theta1 in theta1_values:\n",
        "        result = MSE(theta0, theta1, X, y)\n",
        "        if result < min_cost:\n",
        "            min_cost = result\n",
        "            min_theta0 = theta0\n",
        "            min_theta1 = theta1\n",
        "print(\"theta0 = {}, theta1 = {}\".format(min_theta0, min_theta1))\n",
        "print(\"Minimum cost through MSE: {}\".format(min_cost))\n",
        "\n"
      ],
      "metadata": {
        "id": "QqkzretB8tCp",
        "colab": {
          "base_uri": "https://localhost:8080/"
        },
        "outputId": "aec66cef-63a3-4120-a27e-c05c3fe7c580"
      },
      "execution_count": null,
      "outputs": [
        {
          "output_type": "stream",
          "name": "stdout",
          "text": [
            "theta0 = 1.5, theta1 = 0.9000000000000001\n",
            "Minimum cost through MSE: 20.650487818271692\n"
          ]
        }
      ]
    },
    {
      "cell_type": "markdown",
      "source": [
        "##Visualization\n",
        "Plotting the actual and predicted answers"
      ],
      "metadata": {
        "id": "IW-d1EPT-S1A"
      }
    },
    {
      "cell_type": "code",
      "source": [
        "plt.scatter(y_pred,y_test,color='blue')\n",
        "plt.plot(y_test, y_pred)\n",
        "plt.plot(y_test, y_pred)\n",
        "plt.show()"
      ],
      "metadata": {
        "id": "z1JzQA3X-jXJ",
        "colab": {
          "base_uri": "https://localhost:8080/",
          "height": 430
        },
        "outputId": "5a7ad749-031d-42b9-ae40-f6bed3cf6244"
      },
      "execution_count": null,
      "outputs": [
        {
          "output_type": "display_data",
          "data": {
            "text/plain": [
              "<Figure size 640x480 with 1 Axes>"
            ],
            "image/png": "[encoded data removed]"
          },
          "metadata": {}
        }
      ]
    },
    {
      "cell_type": "markdown",
      "source": [
        "BONUS TASK:\n",
        " gradient descent algorithm: \n",
        " "
      ],
      "metadata": {
        "id": "msYFKsYhd22b"
      }
    },
    {
      "cell_type": "code",
      "source": [
        "X = train_df_np\n",
        "y = train_df_np\n",
        "X = (X - np.mean(X)) / np.std(X)\n",
        "y = (y - np.mean(y)) / np.std(y)\n",
        "theta = 0\n",
        "learning_rate = 0.01\n",
        "m = len(y)\n",
        "for i in range(1000):\n",
        "    y_pred = np.dot(X, theta)\n",
        "    d_theta = (1/m) * np.dot(X.T, y_pred - y)\n",
        "    theta = theta - learning_rate * d_theta\n",
        "    cost = (1/(2*m)) * np.sum((y_pred - y)**2)\n",
        "    if i % 100 == 0:\n",
        "      print(f\"Cost at iteration {i}: {cost}\")\n",
        "print(\"Final theta values:\")\n",
        "print(theta)\n",
        "plt.scatter(X, y)\n",
        "plt.plot(X[:, 1], np.dot(X, theta), color='red')\n",
        "plt.xlabel('Feature')\n",
        "plt.ylabel('Target')\n",
        "plt.show()\n"
      ],
      "metadata": {
        "id": "vpdIExMleJZH",
        "colab": {
          "base_uri": "https://localhost:8080/",
          "height": 675
        },
        "outputId": "160bff35-52d7-4035-e0f9-4278ac83bcb5"
      },
      "execution_count": null,
      "outputs": [
        {
          "output_type": "stream",
          "name": "stdout",
          "text": [
            "Cost at iteration 0: 0.9999999999999999\n",
            "Cost at iteration 100: 0.020024699006603093\n",
            "Cost at iteration 200: 0.0026030770708875568\n",
            "Cost at iteration 300: 0.0022728721400819335\n",
            "Cost at iteration 400: 0.0022463382035643837\n",
            "Cost at iteration 500: 0.0022253881805433936\n",
            "Cost at iteration 600: 0.002204727418736213\n",
            "Cost at iteration 700: 0.0021842601407651096\n",
            "Cost at iteration 800: 0.002163982897498516\n",
            "Cost at iteration 900: 0.002143893895428454\n",
            "Final theta values:\n",
            "[[0.52022735 0.47721172]\n",
            " [0.47721172 0.52533554]]\n"
          ]
        },
        {
          "output_type": "display_data",
          "data": {
            "text/plain": [
              "<Figure size 640x480 with 1 Axes>"
            ],
            "image/png": "[encoded data removed]"
          },
          "metadata": {}
        }
      ]
    }
  ]
}